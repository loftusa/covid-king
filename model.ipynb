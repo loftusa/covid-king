{
 "cells": [
  {
   "cell_type": "markdown",
   "metadata": {},
   "source": [
    "So here's what I have in mind to begin with. It's pretty sloppy, but hopefully it'll give you the idea.\n",
    "\n",
    "You start with a of list daily cases from, say, New York like the one I'm attaching (for simplicity, I included only cases through March 31).\n",
    "\n",
    "You assume that each case turns into a death with some probability, call it d. In my example d = .1\n",
    "\n",
    "This p is distributed over days in some way. In my example, it's binomially distributed with p = .8 and N = 10.\n",
    "\n",
    "So now you can compute how many people die each day based on cases from all previous days. I've done this up through cases on Day 6.\n",
    "\n",
    "Then to get the total number of deaths for each day, you just sum across the deaths resulting from cases on all the preceding days. I've done this but of course it's mostly incomplete because you can't really do it easily in Excel. But I'm assuming it'd be trivial to do in Python.\n",
    "\n",
    "So why don't you work on that and then when you have it going we'll work on fitt¬ing the model to the data."
   ]
  },
  {
   "cell_type": "markdown",
   "metadata": {},
   "source": [
    "## Imports"
   ]
  },
  {
   "cell_type": "code",
   "execution_count": 127,
   "metadata": {},
   "outputs": [],
   "source": [
    "import numpy as np\n",
    "import pandas as pd\n",
    "import matplotlib.pyplot as plt\n",
    "import seaborn as sns"
   ]
  },
  {
   "cell_type": "markdown",
   "metadata": {},
   "source": [
    "## Get data"
   ]
  },
  {
   "cell_type": "code",
   "execution_count": 128,
   "metadata": {},
   "outputs": [],
   "source": [
    "url = \"https://raw.githubusercontent.com/nytimes/covid-19-data/master/us-counties.csv\"\n",
    "df = pd.read_csv(url, index_col=\"date\", parse_dates=True)"
   ]
  },
  {
   "cell_type": "code",
   "execution_count": 129,
   "metadata": {},
   "outputs": [
    {
     "data": {
      "text/html": [
       "<div>\n",
       "<style scoped>\n",
       "    .dataframe tbody tr th:only-of-type {\n",
       "        vertical-align: middle;\n",
       "    }\n",
       "\n",
       "    .dataframe tbody tr th {\n",
       "        vertical-align: top;\n",
       "    }\n",
       "\n",
       "    .dataframe thead th {\n",
       "        text-align: right;\n",
       "    }\n",
       "</style>\n",
       "<table border=\"1\" class=\"dataframe\">\n",
       "  <thead>\n",
       "    <tr style=\"text-align: right;\">\n",
       "      <th></th>\n",
       "      <th>county</th>\n",
       "      <th>state</th>\n",
       "      <th>cases</th>\n",
       "      <th>deaths</th>\n",
       "    </tr>\n",
       "    <tr>\n",
       "      <th>date</th>\n",
       "      <th></th>\n",
       "      <th></th>\n",
       "      <th></th>\n",
       "      <th></th>\n",
       "    </tr>\n",
       "  </thead>\n",
       "  <tbody>\n",
       "    <tr>\n",
       "      <th>2020-07-12</th>\n",
       "      <td>New York City</td>\n",
       "      <td>New York</td>\n",
       "      <td>223725</td>\n",
       "      <td>22755</td>\n",
       "    </tr>\n",
       "    <tr>\n",
       "      <th>2020-07-13</th>\n",
       "      <td>New York City</td>\n",
       "      <td>New York</td>\n",
       "      <td>223977</td>\n",
       "      <td>22795</td>\n",
       "    </tr>\n",
       "    <tr>\n",
       "      <th>2020-07-14</th>\n",
       "      <td>New York City</td>\n",
       "      <td>New York</td>\n",
       "      <td>224293</td>\n",
       "      <td>22808</td>\n",
       "    </tr>\n",
       "    <tr>\n",
       "      <th>2020-07-15</th>\n",
       "      <td>New York City</td>\n",
       "      <td>New York</td>\n",
       "      <td>224662</td>\n",
       "      <td>22825</td>\n",
       "    </tr>\n",
       "    <tr>\n",
       "      <th>2020-07-16</th>\n",
       "      <td>New York City</td>\n",
       "      <td>New York</td>\n",
       "      <td>225045</td>\n",
       "      <td>22842</td>\n",
       "    </tr>\n",
       "  </tbody>\n",
       "</table>\n",
       "</div>"
      ],
      "text/plain": [
       "                   county     state   cases  deaths\n",
       "date                                               \n",
       "2020-07-12  New York City  New York  223725   22755\n",
       "2020-07-13  New York City  New York  223977   22795\n",
       "2020-07-14  New York City  New York  224293   22808\n",
       "2020-07-15  New York City  New York  224662   22825\n",
       "2020-07-16  New York City  New York  225045   22842"
      ]
     },
     "execution_count": 129,
     "metadata": {},
     "output_type": "execute_result"
    }
   ],
   "source": [
    "nyc = df.query(\"state == 'New York' & county == 'New York City'\")\n",
    "nyc = nyc.drop('fips', axis=1)\n",
    "\n",
    "nyc.tail()"
   ]
  },
  {
   "cell_type": "code",
   "execution_count": 130,
   "metadata": {},
   "outputs": [
    {
     "data": {
      "text/html": [
       "<div>\n",
       "<style scoped>\n",
       "    .dataframe tbody tr th:only-of-type {\n",
       "        vertical-align: middle;\n",
       "    }\n",
       "\n",
       "    .dataframe tbody tr th {\n",
       "        vertical-align: top;\n",
       "    }\n",
       "\n",
       "    .dataframe thead th {\n",
       "        text-align: right;\n",
       "    }\n",
       "</style>\n",
       "<table border=\"1\" class=\"dataframe\">\n",
       "  <thead>\n",
       "    <tr style=\"text-align: right;\">\n",
       "      <th></th>\n",
       "      <th>county</th>\n",
       "      <th>state</th>\n",
       "      <th>cases</th>\n",
       "      <th>deaths</th>\n",
       "    </tr>\n",
       "    <tr>\n",
       "      <th>date</th>\n",
       "      <th></th>\n",
       "      <th></th>\n",
       "      <th></th>\n",
       "      <th></th>\n",
       "    </tr>\n",
       "  </thead>\n",
       "  <tbody>\n",
       "    <tr>\n",
       "      <th>2020-04-15</th>\n",
       "      <td>New York City</td>\n",
       "      <td>New York</td>\n",
       "      <td>121653</td>\n",
       "      <td>11566</td>\n",
       "    </tr>\n",
       "    <tr>\n",
       "      <th>2020-04-16</th>\n",
       "      <td>New York City</td>\n",
       "      <td>New York</td>\n",
       "      <td>126623</td>\n",
       "      <td>12109</td>\n",
       "    </tr>\n",
       "    <tr>\n",
       "      <th>2020-04-17</th>\n",
       "      <td>New York City</td>\n",
       "      <td>New York</td>\n",
       "      <td>131003</td>\n",
       "      <td>12283</td>\n",
       "    </tr>\n",
       "    <tr>\n",
       "      <th>2020-04-18</th>\n",
       "      <td>New York City</td>\n",
       "      <td>New York</td>\n",
       "      <td>135052</td>\n",
       "      <td>12411</td>\n",
       "    </tr>\n",
       "    <tr>\n",
       "      <th>2020-04-19</th>\n",
       "      <td>New York City</td>\n",
       "      <td>New York</td>\n",
       "      <td>138370</td>\n",
       "      <td>13632</td>\n",
       "    </tr>\n",
       "  </tbody>\n",
       "</table>\n",
       "</div>"
      ],
      "text/plain": [
       "                   county     state   cases  deaths\n",
       "date                                               \n",
       "2020-04-15  New York City  New York  121653   11566\n",
       "2020-04-16  New York City  New York  126623   12109\n",
       "2020-04-17  New York City  New York  131003   12283\n",
       "2020-04-18  New York City  New York  135052   12411\n",
       "2020-04-19  New York City  New York  138370   13632"
      ]
     },
     "execution_count": 130,
     "metadata": {},
     "output_type": "execute_result"
    }
   ],
   "source": [
    "test = nyc.iloc[:50, :].copy()\n",
    "test.tail()"
   ]
  },
  {
   "cell_type": "code",
   "execution_count": 131,
   "metadata": {},
   "outputs": [],
   "source": [
    "# assume a case turns into a death over n days \n",
    "# uniformly with some probability d\n",
    "d = 0.1  # 10% chance of death per case\n",
    "\n",
    "# predict total deaths for each day\n",
    "# draw total deaths from a binomial distribution\n",
    "\n",
    "# d is distributed over days, e.., binomially with p=.8 and N=10\n",
    "\n",
    "# take a particular day. \n",
    "\n",
    "test[\"cpd\"] = test[\"cases\"].diff()  # cases per day\n",
    "test.loc[\"2020-03-01\", \"cpd\"] = 1  # deal with NaN\n",
    "\n",
    "# test[\"dpd_pred\"] = np.random.binomial(test[\"cpd\"], d)  # eventual deaths per day ~ Bin(#cases, d)\n",
    "test[\"dpd_pred\"] = test[\"cpd\"] * d  # simpler, static model rather than stochastic\n",
    "test[\"deaths_pred\"] = test[\"dpd_pred\"].cumsum()"
   ]
  },
  {
   "cell_type": "markdown",
   "metadata": {},
   "source": [
    "### What I've done"
   ]
  },
  {
   "cell_type": "markdown",
   "metadata": {},
   "source": [
    "So far, all I've done is made a cases-per-day column (essentially the derivative of the \"cases\" column),  \n",
    "then for however many new cases there are on a given day, I model the number of deaths that will eventually occur as a result of those cases binomially with n=#cases and p=death chance.  \n",
    "The binomial distribution makes sense since the number of deaths is essentially a sum of Bernoullis, where each bernoulli is just a yes/no of whether a given person will die with probability d.  \n",
    "\n",
    "The deaths_pred column should theoretically always be slightly higher than the deaths column, because the deaths_pred column is a model of the total number of deaths that will *eventually* happen as a result of the current case count."
   ]
  },
  {
   "cell_type": "code",
   "execution_count": 132,
   "metadata": {},
   "outputs": [
    {
     "data": {
      "text/html": [
       "<div>\n",
       "<style scoped>\n",
       "    .dataframe tbody tr th:only-of-type {\n",
       "        vertical-align: middle;\n",
       "    }\n",
       "\n",
       "    .dataframe tbody tr th {\n",
       "        vertical-align: top;\n",
       "    }\n",
       "\n",
       "    .dataframe thead th {\n",
       "        text-align: right;\n",
       "    }\n",
       "</style>\n",
       "<table border=\"1\" class=\"dataframe\">\n",
       "  <thead>\n",
       "    <tr style=\"text-align: right;\">\n",
       "      <th></th>\n",
       "      <th>county</th>\n",
       "      <th>state</th>\n",
       "      <th>cases</th>\n",
       "      <th>deaths</th>\n",
       "      <th>cpd</th>\n",
       "      <th>dpd_pred</th>\n",
       "      <th>deaths_pred</th>\n",
       "    </tr>\n",
       "    <tr>\n",
       "      <th>date</th>\n",
       "      <th></th>\n",
       "      <th></th>\n",
       "      <th></th>\n",
       "      <th></th>\n",
       "      <th></th>\n",
       "      <th></th>\n",
       "      <th></th>\n",
       "    </tr>\n",
       "  </thead>\n",
       "  <tbody>\n",
       "    <tr>\n",
       "      <th>2020-04-15</th>\n",
       "      <td>New York City</td>\n",
       "      <td>New York</td>\n",
       "      <td>121653</td>\n",
       "      <td>11566</td>\n",
       "      <td>8021.0</td>\n",
       "      <td>802.1</td>\n",
       "      <td>12165.3</td>\n",
       "    </tr>\n",
       "    <tr>\n",
       "      <th>2020-04-16</th>\n",
       "      <td>New York City</td>\n",
       "      <td>New York</td>\n",
       "      <td>126623</td>\n",
       "      <td>12109</td>\n",
       "      <td>4970.0</td>\n",
       "      <td>497.0</td>\n",
       "      <td>12662.3</td>\n",
       "    </tr>\n",
       "    <tr>\n",
       "      <th>2020-04-17</th>\n",
       "      <td>New York City</td>\n",
       "      <td>New York</td>\n",
       "      <td>131003</td>\n",
       "      <td>12283</td>\n",
       "      <td>4380.0</td>\n",
       "      <td>438.0</td>\n",
       "      <td>13100.3</td>\n",
       "    </tr>\n",
       "    <tr>\n",
       "      <th>2020-04-18</th>\n",
       "      <td>New York City</td>\n",
       "      <td>New York</td>\n",
       "      <td>135052</td>\n",
       "      <td>12411</td>\n",
       "      <td>4049.0</td>\n",
       "      <td>404.9</td>\n",
       "      <td>13505.2</td>\n",
       "    </tr>\n",
       "    <tr>\n",
       "      <th>2020-04-19</th>\n",
       "      <td>New York City</td>\n",
       "      <td>New York</td>\n",
       "      <td>138370</td>\n",
       "      <td>13632</td>\n",
       "      <td>3318.0</td>\n",
       "      <td>331.8</td>\n",
       "      <td>13837.0</td>\n",
       "    </tr>\n",
       "  </tbody>\n",
       "</table>\n",
       "</div>"
      ],
      "text/plain": [
       "                   county     state   cases  deaths     cpd  dpd_pred  \\\n",
       "date                                                                    \n",
       "2020-04-15  New York City  New York  121653   11566  8021.0     802.1   \n",
       "2020-04-16  New York City  New York  126623   12109  4970.0     497.0   \n",
       "2020-04-17  New York City  New York  131003   12283  4380.0     438.0   \n",
       "2020-04-18  New York City  New York  135052   12411  4049.0     404.9   \n",
       "2020-04-19  New York City  New York  138370   13632  3318.0     331.8   \n",
       "\n",
       "            deaths_pred  \n",
       "date                     \n",
       "2020-04-15      12165.3  \n",
       "2020-04-16      12662.3  \n",
       "2020-04-17      13100.3  \n",
       "2020-04-18      13505.2  \n",
       "2020-04-19      13837.0  "
      ]
     },
     "execution_count": 132,
     "metadata": {},
     "output_type": "execute_result"
    }
   ],
   "source": [
    "test.tail()"
   ]
  },
  {
   "cell_type": "code",
   "execution_count": 144,
   "metadata": {},
   "outputs": [
    {
     "data": {
      "text/plain": [
       "<matplotlib.legend.Legend at 0x137f558b0>"
      ]
     },
     "execution_count": 144,
     "metadata": {},
     "output_type": "execute_result"
    },
    {
     "data": {
      "image/png": "[encoded data removed]",
      "text/plain": [
       "<Figure size 432x288 with 1 Axes>"
      ]
     },
     "metadata": {
      "needs_background": "light"
     },
     "output_type": "display_data"
    }
   ],
   "source": [
    "# red line is predicted deaths. \n",
    "sns.lineplot(x=test.index, y=test[\"deaths\"])\n",
    "sns.lineplot(x=test.index, y=test[\"deaths_pred\"])\n",
    "plt.title(\"Actual deaths vs predicted deaths\")\n",
    "plt.legend([\"actual deaths\", \"predicted deaths\"])"
   ]
  },
  {
   "cell_type": "markdown",
   "metadata": {},
   "source": [
    "## Accounting for delay in death"
   ]
  },
  {
   "cell_type": "markdown",
   "metadata": {},
   "source": [
    "For each new day of cases, define $X$ as the day at which a particular new case (starting from $X_0$, the initial day) will die, given that they will die at some point.\n",
    "\n",
    "Theoretically, X will have a small probability mass for the first couple of weeks, and then as the doomed patient's condition worsens, X's mass will increase. There will probably be a large tail probability, so its distribution will have a positive skew.  \n",
    "\n",
    "I'll begin by modeling X as gamma-distributed, and playing around with the parameters until I get a distribution that looks kind of like what I'm envisioning."
   ]
  },
  {
   "cell_type": "code",
   "execution_count": 126,
   "metadata": {},
   "outputs": [
    {
     "data": {
      "text/plain": [
       "16.0"
      ]
     },
     "execution_count": 126,
     "metadata": {},
     "output_type": "execute_result"
    },
    {
     "data": {
      "image/png": "[encoded data removed]",
      "text/plain": [
       "<Figure size 432x288 with 1 Axes>"
      ]
     },
     "metadata": {
      "needs_background": "light"
     },
     "output_type": "display_data"
    }
   ],
   "source": [
    "from scipy.stats import gamma\n",
    "\n",
    "a = 4\n",
    "X = gamma(a, scale=4)\n",
    "xaxis = np.linspace(X.ppf(0.01), X.ppf(0.99), 100)\n",
    "\n",
    "plt.plot(xaxis, X.pdf(xaxis))\n",
    "X.mean()"
   ]
  },
  {
   "cell_type": "code",
   "execution_count": null,
   "metadata": {},
   "outputs": [],
   "source": []
  }
 ],
 "metadata": {
  "kernelspec": {
   "display_name": "38",
   "language": "python",
   "name": "38"
  },
  "language_info": {
   "codemirror_mode": {
    "name": "ipython",
    "version": 3
   },
   "file_extension": ".py",
   "mimetype": "text/x-python",
   "name": "python",
   "nbconvert_exporter": "python",
   "pygments_lexer": "ipython3",
   "version": "3.8.0"
  }
 },
 "nbformat": 4,
 "nbformat_minor": 4
}
