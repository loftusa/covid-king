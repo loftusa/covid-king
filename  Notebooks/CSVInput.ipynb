{
 "cells": [
  {
   "cell_type": "markdown",
   "metadata": {},
   "source": [
    "# Country project (case data)"
   ]
  },
  {
   "cell_type": "markdown",
   "metadata": {},
   "source": [
    "## Reads .cvs file for region names, region populations, and Matrix 1"
   ]
  },
  {
   "cell_type": "markdown",
   "metadata": {},
   "source": [
    "Run the cells below first."
   ]
  },
  {
   "cell_type": "code",
   "execution_count": 36,
   "metadata": {},
   "outputs": [],
   "source": [
    "import pandas as pd\n",
    "import os; os.chdir(\"/Users/gloftus/covid-king/\")\n",
    "\n",
    "rows_cols = (2, 5)\n",
    "filename = \"figs/country_cases.png\"\n",
    "Geofffile = \"data/RelevantStates.cases.csv\"\n"
   ]
  },
  {
   "cell_type": "code",
   "execution_count": 37,
   "metadata": {},
   "outputs": [],
   "source": [
    "from pathlib import Path\n",
    "import datetime\n",
    "import io\n",
    "import ast\n",
    "import warnings\n",
    "\n",
    "import requests\n",
    "import numpy as np\n",
    "import matplotlib.pyplot as plt\n",
    "import matplotlib.dates as mdates\n",
    "from matplotlib.ticker import ScalarFormatter\n",
    "import seaborn as sns\n",
    "import pandas as pd; pd.set_option('display.max_rows', 500); pd.set_option('display.float_format', '{:.10f}'.format)\n",
    "from sklearn.linear_model import LinearRegression\n",
    "\n",
    "# Get Regions, populations, Matrix1 data from relevant .csv file\n",
    "# print(TestMatrix1.head())"
   ]
  },
  {
   "cell_type": "markdown",
   "metadata": {},
   "source": [
    "## GENERATE THE PLOT"
   ]
  },
  {
   "cell_type": "markdown",
   "metadata": {},
   "source": [
    "Instructions:\n",
    "---\n",
    "- pass in a list of ISOs at the top\n",
    "- if desired, pass in the number of rows and columns you want in the figure with `rows_cols = (rownumber, columnnumber)`\n",
    "- if `rows_cols = (None, None)`, then the script will default to 4 columns and a dynamic number of rows."
   ]
  },
  {
   "cell_type": "code",
   "execution_count": 55,
   "metadata": {},
   "outputs": [
    {
     "ename": "TypeError",
     "evalue": "main() got multiple values for argument 'rows_cols'",
     "output_type": "error",
     "traceback": [
      "\u001b[0;31m---------------------------------------------------------------------------\u001b[0m",
      "\u001b[0;31mTypeError\u001b[0m                                 Traceback (most recent call last)",
      "\u001b[0;32m<ipython-input-55-b4912ae8616c>\u001b[0m in \u001b[0;36m<module>\u001b[0;34m\u001b[0m\n\u001b[1;32m    133\u001b[0m \u001b[0;34m\u001b[0m\u001b[0m\n\u001b[1;32m    134\u001b[0m \u001b[0;31m# Actually run the program\u001b[0m\u001b[0;34m\u001b[0m\u001b[0;34m\u001b[0m\u001b[0;34m\u001b[0m\u001b[0m\n\u001b[0;32m--> 135\u001b[0;31m \u001b[0mmain\u001b[0m\u001b[0;34m(\u001b[0m\u001b[0misos\u001b[0m\u001b[0;34m,\u001b[0m \u001b[0mrows_cols\u001b[0m\u001b[0;34m=\u001b[0m\u001b[0mrows_cols\u001b[0m\u001b[0;34m,\u001b[0m \u001b[0mfilename\u001b[0m\u001b[0;34m=\u001b[0m\u001b[0mfilename\u001b[0m\u001b[0;34m)\u001b[0m\u001b[0;34m\u001b[0m\u001b[0;34m\u001b[0m\u001b[0m\n\u001b[0m",
      "\u001b[0;31mTypeError\u001b[0m: main() got multiple values for argument 'rows_cols'"
     ]
    }
   ],
   "source": [
    "def get_matrix2(matrix1, populations, data):\n",
    "    print(populations/1000000, sep='\\t')\n",
    "    return matrix1.diff().rolling(14).mean() / (populations/1000000)\n",
    "\n",
    "def get_matrix3(matrix2):\n",
    "    with warnings.catch_warnings():\n",
    "        warnings.simplefilter(\"ignore\")\n",
    "        return np.log10(matrix2)\n",
    "\n",
    "def linear_regression(country_col, future_day_count):\n",
    "    # pred_idx is a list of the next `future_day_count` days, starting tomorrow.\n",
    "    # Each of the elements are dates, not numbers.\n",
    "    pred_idx = pd.date_range(start=country_col.index[-1] + pd.Timedelta(days=1), \n",
    "                             periods=future_day_count, freq=\"D\")\n",
    "    \n",
    "    # days_from_start is a list of numbers, each of which denotes one of the previous 7 days,\n",
    "    # starting with 0 (0 representing 7 days ago)\n",
    "    days_from_start = (country_col.index - country_col.index[0]).days\n",
    "    \n",
    "    # the integer-day index for tomorrow.\n",
    "    tomorrow = days_from_start[-1] + 1\n",
    "    \n",
    "    # the integer-day indices for the days we want to predict.\n",
    "    to_pred = np.arange(tomorrow, tomorrow + future_day_count).reshape(-1, 1)\n",
    "    \n",
    "    # Get the pure integer indices for the days that we're fitting the linear regression on,\n",
    "    # in integers, and then format properly\n",
    "    X = days_from_start.values.reshape(-1, 1)\n",
    "    \n",
    "    # get the actual values for the days we're fitting the linear regression on, then format properly\n",
    "    Y = country_col.values.reshape(-1, 1)\n",
    "    \n",
    "    # Fit out linear regression model on the previous 7 days, then predict the next `future_day_count` days\n",
    "    y_pred = LinearRegression().fit(X, Y).predict(to_pred)\n",
    "    \n",
    "    # Give back the dates that we predicted, and the predicted values\n",
    "    return pred_idx, y_pred.squeeze()\n",
    "\n",
    "def predict_future(df, future_day_count=14):\n",
    "    last_7_days = df[-7:]\n",
    "    df_dict = {}\n",
    "    for col in last_7_days:\n",
    "        series = last_7_days[col]\n",
    "        idx, pred = linear_regression(series, future_day_count=future_day_count)\n",
    "        df_dict[col] = pred\n",
    "\n",
    "    return 10**pd.DataFrame(df_dict, index=idx)\n",
    "\n",
    "def main(rows_cols=(None, None), filename=\"\"):\n",
    "    \n",
    "    # grab matrices\n",
    "    \"\"\"\n",
    "    Extract data from rows 2-n of Test.Matrix.csv \n",
    "    Anything below involving iso codes is irrelevant\n",
    "    \"\"\"   \n",
    "    df = pd.read_csv('Test.Matrix.csv', index_col=0)\n",
    "    populations = df.iloc[0:1]\n",
    "    \n",
    "    matrix1 = df.iloc[2:len(df)]\n",
    "    matrix2 = get_matrix2(matrix1, populations, data=df)\n",
    "    matrix3 = get_matrix3(matrix2)\n",
    "    final = 10**matrix3\n",
    "    \n",
    "    # add regression prediction\n",
    "    regression_predictions = predict_future(matrix3, future_day_count=14)\n",
    "    \n",
    "    # --- Plotting --- #\n",
    "    \n",
    "    # By default, create the grid dynamically with 4 columns and changing \n",
    "    # number of rows. If you want, you can pass a specific number of rows\n",
    "    # and columns by passing (rows_cols) to this function.\n",
    "    n_plots = len(isos)\n",
    "    if rows_cols == (None, None):\n",
    "        ncols = 4\n",
    "        quotient, remainder = divmod(n_plots, ncols)\n",
    "        nrows = quotient if remainder==0 else quotient+1\n",
    "    else:\n",
    "        nrows, ncols = rows_cols\n",
    "        quotient, remainder = divmod(n_plots, ncols)\n",
    "        \n",
    "    # set up figure by making an empty grid of plots, each of which will get \n",
    "    # data added to it in the country loop\n",
    "    fig, axs = plt.subplots(nrows=nrows, ncols=ncols, figsize=(ncols*4, nrows*3.5))\n",
    "        \n",
    "    # get rid of any plots we aren't using\n",
    "    if remainder != 0:\n",
    "        diff = len(axs.flat) - len(isos)\n",
    "        for ax in axs.flat[-diff:]:\n",
    "            ax.set_axis_off()\n",
    "    \n",
    "    # loop through the countries we're plotting, and make a \n",
    "    # plot for each country\n",
    "    for i, iso in enumerate(isos):\n",
    "        \n",
    "        # get the name of the country and create a scatterplot\n",
    "        country_name = iso_mapping[iso]\n",
    "        ax = axs.flat[i]\n",
    "        g = sns.scatterplot(data=final, x=final.index, y=country_name, \n",
    "                            ax=ax, color=\"black\", edgecolor=\"none\", s=8, )\n",
    "        \n",
    "        # add regression line to the current country plot and make blue\n",
    "        sns.lineplot(data=regression_predictions, x=regression_predictions.index, \n",
    "                     y=country_name, ax=g, color=\"blue\")\n",
    "        \n",
    "        \n",
    "        # add title and set y-axis to logarithmic scale\n",
    "        g.set_title(f\"{country_name}\", fontsize=20)\n",
    "        g.set(yscale=\"log\", ylabel=\"NCPC\", ylim=(1, 2000))\n",
    "        \n",
    "        # mess with x-axis ticks\n",
    "        g.xaxis.set_minor_locator(mdates.WeekdayLocator(interval=2))  # change the interval for the smaller ticks on x-axis to every 2 days\n",
    "        g.xaxis.set_major_locator(mdates.WeekdayLocator(interval=8))  # change the interval for the larger ticks on x-axis to every 8 days\n",
    "        g.xaxis.set_major_formatter(mdates.DateFormatter(\"%m-%d\"))  # show x-ticks in month-day format, don't display years\n",
    "        g.xaxis.label.set_size(14)  # sets size of x-axis label\n",
    "        g.tick_params(axis='x', labelrotation=45)  # rotate ticks by 45 degrees\n",
    "        \n",
    "        # mess with y-axis ticks\n",
    "        g.yaxis.set_major_formatter(ScalarFormatter())  # ticks in integers rather than scientific notation\n",
    "        g.yaxis.label.set_size(14)  # sets size of y-axis label\n",
    "        \n",
    "        # add green horizontal line\n",
    "        g.axhline(y=7, color=\"green\")\n",
    "        \n",
    "        # add horizontal grid lines, make the color black, give them transparency of 0.1\n",
    "        g.yaxis.grid(which='major', color='black', alpha=0.2)\n",
    "        \n",
    "    # Increase the vertical (height) distance between plots on the grid\n",
    "    plt.tight_layout(h_pad=2.5)\n",
    "    \n",
    "    # save the figure\n",
    "    if filename:\n",
    "        plt.savefig(filename, bbox_inches=\"tight\", dpi=144)\n",
    "    \n",
    "# Actually run the program\n",
    "main(isos, rows_cols=rows_cols, filename=filename)  "
   ]
  },
  {
   "cell_type": "markdown",
   "metadata": {},
   "source": [
    "# Dad Playground"
   ]
  },
  {
   "cell_type": "code",
   "execution_count": 60,
   "metadata": {},
   "outputs": [
    {
     "data": {
      "text/html": [
       "<div>\n",
       "<style scoped>\n",
       "    .dataframe tbody tr th:only-of-type {\n",
       "        vertical-align: middle;\n",
       "    }\n",
       "\n",
       "    .dataframe tbody tr th {\n",
       "        vertical-align: top;\n",
       "    }\n",
       "\n",
       "    .dataframe thead th {\n",
       "        text-align: right;\n",
       "    }\n",
       "</style>\n",
       "<table border=\"1\" class=\"dataframe\">\n",
       "  <thead>\n",
       "    <tr style=\"text-align: right;\">\n",
       "      <th></th>\n",
       "      <th>Massachusetts</th>\n",
       "      <th>New York</th>\n",
       "      <th>Maryland</th>\n",
       "      <th>North Carolina</th>\n",
       "      <th>Florida</th>\n",
       "      <th>Penn</th>\n",
       "      <th>Indiana</th>\n",
       "      <th>Illinois</th>\n",
       "      <th>Nevada</th>\n",
       "      <th>Washington</th>\n",
       "      <th>Oregon</th>\n",
       "      <th>Nothern California</th>\n",
       "      <th>Southern California</th>\n",
       "      <th>Canada</th>\n",
       "      <th>Italy</th>\n",
       "      <th>United Kingdom</th>\n",
       "    </tr>\n",
       "  </thead>\n",
       "  <tbody>\n",
       "    <tr>\n",
       "      <th>date</th>\n",
       "      <td>6.94</td>\n",
       "      <td>19.45</td>\n",
       "      <td>6.05</td>\n",
       "      <td>10.49</td>\n",
       "      <td>21.48</td>\n",
       "      <td>12.8</td>\n",
       "      <td>6.73</td>\n",
       "      <td>12.67</td>\n",
       "      <td>3.08</td>\n",
       "      <td>7.61</td>\n",
       "      <td>4.22</td>\n",
       "      <td>15.73</td>\n",
       "      <td>23.64</td>\n",
       "      <td>38.01</td>\n",
       "      <td>60.32</td>\n",
       "      <td>67.89</td>\n",
       "    </tr>\n",
       "  </tbody>\n",
       "</table>\n",
       "</div>"
      ],
      "text/plain": [
       "     Massachusetts New York Maryland North Carolina Florida  Penn Indiana  \\\n",
       "date          6.94    19.45     6.05          10.49   21.48  12.8    6.73   \n",
       "\n",
       "     Illinois Nevada Washington Oregon Nothern California Southern California  \\\n",
       "date    12.67   3.08       7.61   4.22              15.73               23.64   \n",
       "\n",
       "     Canada  Italy United Kingdom  \n",
       "date  38.01  60.32          67.89  "
      ]
     },
     "execution_count": 60,
     "metadata": {},
     "output_type": "execute_result"
    }
   ],
   "source": [
    "df = pd.read_csv('Test.Matrix.csv', index_col=0)\n",
    "populations = df.iloc[0:1]\n",
    "populations\n",
    "# matrix1 = df.iloc[2:len(df)]"
   ]
  },
  {
   "cell_type": "markdown",
   "metadata": {},
   "source": [
    "## Utility: finding ISO codes\n",
    "\n",
    "Use the two cells below to find ISOs from country names or vice-versa.\n",
    "- the `iso_mapping` variable contains the entire list of mappings"
   ]
  },
  {
   "cell_type": "code",
   "execution_count": 38,
   "metadata": {},
   "outputs": [
    {
     "name": "stdout",
     "output_type": "stream",
     "text": [
      "['VEN', 'COL', 'BOL', 'ECU', 'PER', 'BRA', 'ARG', 'PRY', 'URY', 'CHL']\n"
     ]
    }
   ],
   "source": [
    "# You can get isos from countries with\n",
    "# isos = list(country_to_iso([\"Ireland\", \"United Kingdom\", \"Portugal\", \"Spain\", \"France\", 'Italy', 'Belgium', 'Luxembourg']))\n",
    "# isos = list(country_to_iso([\"Ireland\", \"United Kingdom\", \"Portugal\", \"Spain\", \"France\", \"Italy\", \"Belgium\", \"Luxembourg\", \"Denmark\"]))\n",
    "\n",
    "# Or just pass in a single country:\n",
    "# isos = isos_from_countries = list(country_to_iso([\"Brazil\", \"Argentina\",\"Chile\", \"Peru\", \"Bolivia\", \"Paraguay\", \"Uruguay\", \"Venezuela\", \"Colombia\"]))\n",
    "isos = isos_from_countries = list(country_to_iso([\"Venezuela\", \"Colombia\", \"Bolivia\", \"Ecuador\", \"Peru\", \"Brazil\", \"Argentina\", \"Paraguay\", \"Uruguay\", \"Chile\"]))\n",
    "#  isos = isos_from_countries = list(country_to_iso([\"Venezuela\", \"Colombia\", \"Bolivia\", \"Peru\", \"Brazil\", \"Argentina\", \"Paraguay\", \"Uruguay\", \"Chile\"]))\n",
    "\n",
    "print(isos)"
   ]
  },
  {
   "cell_type": "code",
   "execution_count": 7,
   "metadata": {},
   "outputs": [
    {
     "name": "stdout",
     "output_type": "stream",
     "text": [
      "['Ireland', 'United Kingdom', 'Portugal', 'Spain', 'France', 'Italy', 'Belgium', 'Luxembourg', 'Denmark']\n"
     ]
    },
    {
     "data": {
      "text/plain": [
       "'United Kingdom'"
      ]
     },
     "execution_count": 7,
     "metadata": {},
     "output_type": "execute_result"
    }
   ],
   "source": [
    "# You can get countries from isos with\n",
    "country_names = list(iso_to_country(isos))\n",
    "print(country_names)\n",
    "\n",
    "# Or a single iso:\n",
    "iso_to_country(\"GBR\")"
   ]
  },
  {
   "cell_type": "markdown",
   "metadata": {},
   "source": [
    "# Notes from when I made the functions all separately"
   ]
  },
  {
   "cell_type": "markdown",
   "metadata": {},
   "source": [
    "## Get data for daily regions (cases)"
   ]
  },
  {
   "cell_type": "markdown",
   "metadata": {},
   "source": [
    "The below code will grab the current data and cache it into a local .csv file.  \n",
    "\n",
    "If you already have the local csv file and it's up-to-date (meaning, the most recent date in it is greater than or equal to yesterday), just use the local csv file to avoid re-downloading uneccesarily.\n",
    "\n",
    "If you don't already have the local csv file, download it as well.\n",
    "\n",
    "**useful things**\n",
    "- check out the variable `iso_mapping`. It maps iso codes to country names.\n",
    "- You can use this to look at particular country codes. For example, you could type `iso_mapping[['HUN', 'EST']]` to look at the iso conversions for Hungary and Estonia."
   ]
  },
  {
   "cell_type": "markdown",
   "metadata": {},
   "source": [
    "## Matrix 1"
   ]
  },
  {
   "cell_type": "markdown",
   "metadata": {},
   "source": [
    "The below code creates Matrix 1 for each cell. Feel free to peruse it. You just pass a list of ISO codes into `convert`. More information in the string underneath the `convert` definition (`def`).\n",
    "\n",
    "**useful things**\n",
    "- the `iso_to_country` function eats an ISO and outputs a country name. For example, iso_to_country(\"IRL\") returns \"Ireland\".\n",
    "- the `country_to_iso` function eats a country and outputs an ISO. For example, country_to_iso(\"Ireland\") returns \"IRL\"."
   ]
  },
  {
   "cell_type": "markdown",
   "metadata": {},
   "source": [
    "## Matrix 2"
   ]
  },
  {
   "cell_type": "markdown",
   "metadata": {},
   "source": [
    "This code calculates matrix 2. There are small disparity between these numbers and the ones in the Excel spreadsheet -- that's because I calculated population manually based on the original countries_data, rather than using the numbers in the sheet. \n",
    "\n",
    "If you'd like you can replace `populations = np.array([get_population(country) for country in iso_list])` with `populations = np.array([4.977, 67.886, 10.296, 47.431, 67.081, 60.317, 11.493, 0.626])` for e.g. EU1. \n",
    "\n",
    "I personally think this is too much of a hassle."
   ]
  },
  {
   "cell_type": "markdown",
   "metadata": {},
   "source": [
    "## Matrix 4"
   ]
  },
  {
   "cell_type": "markdown",
   "metadata": {},
   "source": [
    "The fun part!\n",
    "\n",
    "Thoughts:\n",
    "- Lasso Regression or Elastic Regression is almost always better to use than normal linear regression. I can swap those out very easily if you'd like."
   ]
  },
  {
   "cell_type": "code",
   "execution_count": 1,
   "metadata": {
    "tags": []
   },
   "outputs": [],
   "source": [
    "us_state_abbrev = {\n",
    "    'Alabama': 'AL',\n",
    "    'Alaska': 'AK',\n",
    "    'American Samoa': 'AS',\n",
    "    'Arizona': 'AZ',\n",
    "    'Arkansas': 'AR',\n",
    "    'California': 'CA',\n",
    "    'Colorado': 'CO',\n",
    "    'Connecticut': 'CT',\n",
    "    'Delaware': 'DE',\n",
    "    'District of Columbia': 'DC',\n",
    "    'Florida': 'FL',\n",
    "    'Georgia': 'GA',\n",
    "    'Guam': 'GU',\n",
    "    'Hawaii': 'HI',\n",
    "    'Idaho': 'ID',\n",
    "    'Illinois': 'IL',\n",
    "    'Indiana': 'IN',\n",
    "    'Iowa': 'IA',\n",
    "    'Kansas': 'KS',\n",
    "    'Kentucky': 'KY',\n",
    "    'Louisiana': 'LA',\n",
    "    'Maine': 'ME',\n",
    "    'Maryland': 'MD',\n",
    "    'Massachusetts': 'MA',\n",
    "    'Michigan': 'MI',\n",
    "    'Minnesota': 'MN',\n",
    "    'Mississippi': 'MS',\n",
    "    'Missouri': 'MO',\n",
    "    'Montana': 'MT',\n",
    "    'Nebraska': 'NE',\n",
    "    'Nevada': 'NV',\n",
    "    'New Hampshire': 'NH',\n",
    "    'New Jersey': 'NJ',\n",
    "    'New Mexico': 'NM',\n",
    "    'New York': 'NY',\n",
    "    'North Carolina': 'NC',\n",
    "    'North Dakota': 'ND',\n",
    "    'Northern Mariana Islands':'MP',\n",
    "    'Ohio': 'OH',\n",
    "    'Oklahoma': 'OK',\n",
    "    'Oregon': 'OR',\n",
    "    'Pennsylvania': 'PA',\n",
    "    'Puerto Rico': 'PR',\n",
    "    'Rhode Island': 'RI',\n",
    "    'South Carolina': 'SC',\n",
    "    'South Dakota': 'SD',\n",
    "    'Tennessee': 'TN',\n",
    "    'Texas': 'TX',\n",
    "    'Utah': 'UT',\n",
    "    'Vermont': 'VT',\n",
    "    'Virgin Islands': 'VI',\n",
    "    'Virginia': 'VA',\n",
    "    'Washington': 'WA',\n",
    "    'West Virginia': 'WV',\n",
    "    'Wisconsin': 'WI',\n",
    "    'Wyoming': 'WY'\n",
    "}\n",
    "\n",
    "us_state_abbrev_r = {v: k for k, v in us_state_abbrev.items()}"
   ]
  }
 ],
 "metadata": {
  "kernelspec": {
   "display_name": "Python 3",
   "language": "python",
   "name": "python3"
  },
  "language_info": {
   "codemirror_mode": {
    "name": "ipython",
    "version": 3
   },
   "file_extension": ".py",
   "mimetype": "text/x-python",
   "name": "python",
   "nbconvert_exporter": "python",
   "pygments_lexer": "ipython3",
   "version": "3.7.6"
  }
 },
 "nbformat": 4,
 "nbformat_minor": 4
}
