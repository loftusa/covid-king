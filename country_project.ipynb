{
 "cells": [
  {
   "cell_type": "markdown",
   "metadata": {},
   "source": [
    "# Country project"
   ]
  },
  {
   "cell_type": "code",
   "execution_count": 1,
   "metadata": {},
   "outputs": [],
   "source": [
    "from pathlib import Path\n",
    "import datetime\n",
    "import io\n",
    "import ast\n",
    "\n",
    "import requests\n",
    "import pandas as pd\n",
    "import numpy as np\n",
    "pd.set_option('display.max_rows', 500)"
   ]
  },
  {
   "cell_type": "markdown",
   "metadata": {},
   "source": [
    "## Get data for daily regions (cases)"
   ]
  },
  {
   "cell_type": "markdown",
   "metadata": {},
   "source": [
    "The below code will grab the current data and cache it into a local .csv file.  \n",
    "\n",
    "If you already have the local csv file and it's up-to-date (meaning, the most recent date in it is greater than or equal to yesterday), just use the local csv file to avoid re-downloading uneccesarily.\n",
    "\n",
    "If you don't already have the local csv file, download it as well.\n",
    "\n",
    "**useful things**\n",
    "- check out the variable `iso_mapping`. It maps iso codes to country names.\n",
    "- You can use this to look at particular country codes. For example, you could type `iso_mapping[['HUN', 'EST']]` to look at the iso conversions for Hungary and Estonia."
   ]
  },
  {
   "cell_type": "code",
   "execution_count": 2,
   "metadata": {},
   "outputs": [],
   "source": [
    "# initial parameters\n",
    "countries_data = Path(\"countries_data.csv\")\n",
    "yesterday = pd.Timestamp(datetime.date.today() - datetime.timedelta(days=1))\n",
    "kwargs = dict(parse_dates=[\"date\"])\n",
    "\n",
    "def get_from_url(url):\n",
    "    response = requests.get(\"https://covid.ourworldindata.org/data/owid-covid-data.csv\")\n",
    "    data_raw = response.content.decode('utf-8')\n",
    "    data_raw_str = io.StringIO(data_raw)\n",
    "    df_countries = pd.read_csv(data_raw_str, index_col=\"date\", parse_dates=True)\n",
    "    return df_countries\n",
    "    \n",
    "def get_current_data():\n",
    "    # initial parameters\n",
    "    url = \"https://covid.ourworldindata.org/data/owid-covid-data.csv\"\n",
    "    countries_data = Path(\"countries_data.csv\")\n",
    "    yesterday = pd.Timestamp(datetime.date.today() - datetime.timedelta(days=1))\n",
    "    kwargs = dict(index_col=\"date\", parse_dates=True)\n",
    "    \n",
    "    # read from file\n",
    "    if not countries_data.is_file():\n",
    "        df = get_from_url(url)\n",
    "        df.to_csv(countries_data)\n",
    "        return df\n",
    "    else:\n",
    "        df = pd.read_csv(countries_data, **kwargs)\n",
    "\n",
    "    # check if dataframe is completely up-to-date.\n",
    "    # if not, refresh it.\n",
    "    last_date = pd.Timestamp(df.iloc[-1].name)\n",
    "    updated = last_date >= yesterday\n",
    "    if not updated:\n",
    "        df = get_from_url(url)\n",
    "        df.to_csv(counties_data)\n",
    "\n",
    "    \n",
    "    return df\n",
    "\n",
    "df_countries = get_current_data()\n",
    "iso_mapping = df_countries[[\"iso_code\", \"location\"]].drop_duplicates().set_index(\"iso_code\").squeeze()\n",
    "iso_mapping.index.name = None\n",
    "iso_mapping_r = pd.Series(iso_mapping.index.values, index=iso_mapping)"
   ]
  },
  {
   "cell_type": "markdown",
   "metadata": {},
   "source": [
    "## Matrix 1"
   ]
  },
  {
   "cell_type": "markdown",
   "metadata": {},
   "source": [
    "The below code creates Matrix 1 for each cell. Feel free to peruse it. You just pass a list of ISO codes into `convert`. More information in the string underneath the `convert` definition (`def`).\n",
    "\n",
    "**useful things**\n",
    "- the `iso_to_country` function eats an ISO and outputs a country name. For example, iso_to_country(\"IRL\") returns \"Ireland\".\n",
    "- the `country_to_iso` function eats a country and outputs an ISO. For example, country_to_iso(\"Ireland\") returns \"IRL\"."
   ]
  },
  {
   "cell_type": "code",
   "execution_count": 3,
   "metadata": {},
   "outputs": [],
   "source": [
    "def iso_to_country(iso):\n",
    "    \"\"\"\n",
    "    Eats an ISO, pops out a country.\n",
    "    \"\"\"\n",
    "    return iso_mapping[iso]\n",
    "\n",
    "def country_to_iso(country):\n",
    "    \"\"\"\n",
    "    Eats a country, pops out an ISO.\n",
    "    \"\"\"\n",
    "    return iso_mapping_r[country]\n",
    "\n",
    "def get_population(iso_code):\n",
    "    \"\"\"\n",
    "    Get the population for a particular country, based on total cases and cases per million.\n",
    "    \"\"\"\n",
    "    df = df_countries[df_countries.iso_code == iso_code]\n",
    "    pops = df[\"total_cases\"] / df[\"total_cases_per_million\"]\n",
    "    return int(pops.mean() * 1000000)\n",
    "    \n",
    "def get_matrix1(ordered_iso_codes, filename=\"\"):\n",
    "    \"\"\"\n",
    "    ``ordered_iso_codes`` looks like, e.g., ['IRL','GBR', 'PRT'].\n",
    "        You put the iso codes in the order you want and this function outputs a DataFrame\n",
    "        which has the full country names in the same order.\n",
    "        \n",
    "    ``save_csv`` is a filename if you want to save it, otherwise just don't use it.\n",
    "    \"\"\"\n",
    "    region = df_countries.query(f\"iso_code in {ordered_iso_codes}\")\n",
    "    region = region.pivot(columns='iso_code', values='total_cases')\n",
    "    region = region[ordered_iso_codes]\n",
    "    region.rename(iso_mapping[region.columns].to_dict(), axis=1, inplace=True)\n",
    "    region = region[region.index > \"2020-03-25\"]\n",
    "    region.columns.name = None\n",
    "    if filename:\n",
    "        region.to_csv(filename)\n",
    "    return region\n",
    "\n",
    "# get ISOs\n",
    "EU1_isos = [\"IRL\", \"GBR\", \"PRT\", \"ESP\", \"FRA\", \"ITA\", \"BEL\", \"LUX\"]\n",
    "EU2_isos = ['NLD', 'DEU', 'AUT', 'POL', 'CHE', 'SVN', 'CZE', 'SVK']\n",
    "EU3_isos = ['HUN', 'EST', 'LTU',  'LVA',  'SWE', 'NOR', 'DNK', 'FIN']\n",
    "EU4_isos = ['ROU', 'BGR', 'SRB', 'BIH', 'HRV', 'GRC',  'CYP', 'MLT']\n",
    "\n",
    "# get country\n",
    "EU1 = get_matrix1(EU1_isos, filename=\"EU1.csv\")\n",
    "EU2 = get_matrix1(EU2_isos, filename=\"EU2.csv\")\n",
    "EU3 = get_matrix1(EU3_isos, filename=\"EU3.csv\")\n",
    "EU4 = get_matrix1(EU4_isos, filename=\"EU4.csv\")"
   ]
  },
  {
   "cell_type": "markdown",
   "metadata": {},
   "source": [
    "## Matrix 2"
   ]
  },
  {
   "cell_type": "markdown",
   "metadata": {},
   "source": [
    "This code calculates matrix 2. There are small disparity between these numbers and the ones in the Excel spreadsheet -- that's because I calculated population manually based on the original countries_data, rather than using the numbers in the sheet. \n",
    "\n",
    "If you'd like you can replace `populations = np.array([get_population(country) for country in iso_list])` with `populations = np.array([4.977, 67.886, 10.296, 47.431, 67.081, 60.317, 11.493, 0.626])` for e.g. EU1. \n",
    "\n",
    "I personally think this is too much of a hassle."
   ]
  },
  {
   "cell_type": "code",
   "execution_count": 4,
   "metadata": {},
   "outputs": [],
   "source": [
    "def get_matrix2(matrix1, iso_list):\n",
    "    populations = np.array([get_population(country) for country in iso_list])\n",
    "    return matrix1.diff().rolling(14).mean() / (populations/1000000)\n",
    "\n",
    "EU1_m2 = get_matrix2(EU1, EU1_isos)"
   ]
  },
  {
   "cell_type": "markdown",
   "metadata": {},
   "source": [
    "## Matrix 3"
   ]
  },
  {
   "cell_type": "code",
   "execution_count": 5,
   "metadata": {},
   "outputs": [],
   "source": [
    "import warnings\n",
    "def get_matrix3(matrix2):\n",
    "    with warnings.catch_warnings():\n",
    "        warnings.simplefilter(\"ignore\")\n",
    "        return np.log10(matrix2)\n",
    "\n",
    "EU1_m3 = get_matrix3(EU1_m2)"
   ]
  },
  {
   "cell_type": "markdown",
   "metadata": {},
   "source": [
    "## Matrix 4"
   ]
  },
  {
   "cell_type": "markdown",
   "metadata": {},
   "source": [
    "The fun part!\n",
    "\n",
    "Thoughts:\n",
    "- Lasso Regression or Elastic Regression is almost always better to use than normal linear regression. I can swap those out very easily if you'd like."
   ]
  },
  {
   "cell_type": "code",
   "execution_count": 6,
   "metadata": {},
   "outputs": [
    {
     "data": {
      "text/html": [
       "<div>\n",
       "<style scoped>\n",
       "    .dataframe tbody tr th:only-of-type {\n",
       "        vertical-align: middle;\n",
       "    }\n",
       "\n",
       "    .dataframe tbody tr th {\n",
       "        vertical-align: top;\n",
       "    }\n",
       "\n",
       "    .dataframe thead th {\n",
       "        text-align: right;\n",
       "    }\n",
       "</style>\n",
       "<table border=\"1\" class=\"dataframe\">\n",
       "  <thead>\n",
       "    <tr style=\"text-align: right;\">\n",
       "      <th></th>\n",
       "      <th>Ireland</th>\n",
       "      <th>United Kingdom</th>\n",
       "      <th>Portugal</th>\n",
       "      <th>Spain</th>\n",
       "      <th>France</th>\n",
       "      <th>Italy</th>\n",
       "      <th>Belgium</th>\n",
       "      <th>Luxembourg</th>\n",
       "    </tr>\n",
       "    <tr>\n",
       "      <th>date</th>\n",
       "      <th></th>\n",
       "      <th></th>\n",
       "      <th></th>\n",
       "      <th></th>\n",
       "      <th></th>\n",
       "      <th></th>\n",
       "      <th></th>\n",
       "      <th></th>\n",
       "    </tr>\n",
       "  </thead>\n",
       "  <tbody>\n",
       "    <tr>\n",
       "      <th>2021-04-28</th>\n",
       "      <td>84.892414</td>\n",
       "      <td>39.529518</td>\n",
       "      <td>47.184733</td>\n",
       "      <td>182.716588</td>\n",
       "      <td>436.140767</td>\n",
       "      <td>219.272870</td>\n",
       "      <td>292.895824</td>\n",
       "      <td>277.431661</td>\n",
       "    </tr>\n",
       "    <tr>\n",
       "      <th>2021-04-29</th>\n",
       "      <td>85.842853</td>\n",
       "      <td>40.702176</td>\n",
       "      <td>46.681978</td>\n",
       "      <td>182.534779</td>\n",
       "      <td>421.821646</td>\n",
       "      <td>216.186870</td>\n",
       "      <td>289.359797</td>\n",
       "      <td>273.281092</td>\n",
       "    </tr>\n",
       "    <tr>\n",
       "      <th>2021-04-30</th>\n",
       "      <td>86.803933</td>\n",
       "      <td>41.909621</td>\n",
       "      <td>46.184579</td>\n",
       "      <td>182.353150</td>\n",
       "      <td>407.972642</td>\n",
       "      <td>213.144301</td>\n",
       "      <td>285.866459</td>\n",
       "      <td>269.192618</td>\n",
       "    </tr>\n",
       "    <tr>\n",
       "      <th>2021-05-01</th>\n",
       "      <td>87.775773</td>\n",
       "      <td>43.152886</td>\n",
       "      <td>45.692481</td>\n",
       "      <td>182.171703</td>\n",
       "      <td>394.578321</td>\n",
       "      <td>210.144553</td>\n",
       "      <td>282.415295</td>\n",
       "      <td>265.165311</td>\n",
       "    </tr>\n",
       "    <tr>\n",
       "      <th>2021-05-02</th>\n",
       "      <td>88.758493</td>\n",
       "      <td>44.433032</td>\n",
       "      <td>45.205626</td>\n",
       "      <td>181.990436</td>\n",
       "      <td>381.623754</td>\n",
       "      <td>207.187023</td>\n",
       "      <td>279.005795</td>\n",
       "      <td>261.198255</td>\n",
       "    </tr>\n",
       "    <tr>\n",
       "      <th>2021-05-03</th>\n",
       "      <td>89.752216</td>\n",
       "      <td>45.751154</td>\n",
       "      <td>44.723959</td>\n",
       "      <td>181.809349</td>\n",
       "      <td>369.094504</td>\n",
       "      <td>204.271116</td>\n",
       "      <td>275.637458</td>\n",
       "      <td>257.290549</td>\n",
       "    </tr>\n",
       "    <tr>\n",
       "      <th>2021-05-04</th>\n",
       "      <td>90.757065</td>\n",
       "      <td>47.108379</td>\n",
       "      <td>44.247423</td>\n",
       "      <td>181.628443</td>\n",
       "      <td>356.976607</td>\n",
       "      <td>201.396247</td>\n",
       "      <td>272.309785</td>\n",
       "      <td>253.441305</td>\n",
       "    </tr>\n",
       "  </tbody>\n",
       "</table>\n",
       "</div>"
      ],
      "text/plain": [
       "              Ireland  United Kingdom   Portugal       Spain      France  \\\n",
       "date                                                                       \n",
       "2021-04-28  84.892414       39.529518  47.184733  182.716588  436.140767   \n",
       "2021-04-29  85.842853       40.702176  46.681978  182.534779  421.821646   \n",
       "2021-04-30  86.803933       41.909621  46.184579  182.353150  407.972642   \n",
       "2021-05-01  87.775773       43.152886  45.692481  182.171703  394.578321   \n",
       "2021-05-02  88.758493       44.433032  45.205626  181.990436  381.623754   \n",
       "2021-05-03  89.752216       45.751154  44.723959  181.809349  369.094504   \n",
       "2021-05-04  90.757065       47.108379  44.247423  181.628443  356.976607   \n",
       "\n",
       "                 Italy     Belgium  Luxembourg  \n",
       "date                                            \n",
       "2021-04-28  219.272870  292.895824  277.431661  \n",
       "2021-04-29  216.186870  289.359797  273.281092  \n",
       "2021-04-30  213.144301  285.866459  269.192618  \n",
       "2021-05-01  210.144553  282.415295  265.165311  \n",
       "2021-05-02  207.187023  279.005795  261.198255  \n",
       "2021-05-03  204.271116  275.637458  257.290549  \n",
       "2021-05-04  201.396247  272.309785  253.441305  "
      ]
     },
     "execution_count": 6,
     "metadata": {},
     "output_type": "execute_result"
    }
   ],
   "source": [
    "from sklearn.linear_model import LinearRegression\n",
    "\n",
    "def linear_regression(series, delta):\n",
    "    pred_idx = series.index + pd.DateOffset(days=delta)\n",
    "    days_from_start = (series.index - series.index[0]).days\n",
    "    to_pred = np.array(days_from_start + delta).reshape(-1, 1)\n",
    "    \n",
    "    x = days_from_start.values.reshape(-1, 1)\n",
    "    y = series.values.reshape(-1, 1)\n",
    "    y_pred = LinearRegression().fit(x, y).predict(to_pred)\n",
    "    \n",
    "    return pred_idx, y_pred.squeeze()\n",
    "\n",
    "def predict_future(df, delta=7):\n",
    "    last_7_days = df[-7:]\n",
    "    df_dict = {}\n",
    "    for col in last_7_days:\n",
    "        series = last_7_days[col]\n",
    "        idx, pred = linear_regression(series, delta=delta)\n",
    "        df_dict[col] = pred\n",
    "\n",
    "    return 10**pd.DataFrame(df_dict, index=idx)\n",
    "\n",
    "predict_future(EU1_m3)"
   ]
  },
  {
   "cell_type": "markdown",
   "metadata": {},
   "source": [
    "## Plotting"
   ]
  },
  {
   "cell_type": "markdown",
   "metadata": {},
   "source": [
    "need to set up y-axis, but got the plot"
   ]
  },
  {
   "cell_type": "code",
   "execution_count": 10,
   "metadata": {},
   "outputs": [
    {
     "data": {
      "image/png": "[encoded data removed]",
      "text/plain": [
       "<Figure size 432x288 with 1 Axes>"
      ]
     },
     "metadata": {
      "needs_background": "light"
     },
     "output_type": "display_data"
    }
   ],
   "source": [
    "import seaborn as sns\n",
    "\n",
    "g = sns.scatterplot(data=EU1_m3, x=EU1_m3.index, y=\"Ireland\")\n",
    "g.set(title=\"Ireland (first pass)\");"
   ]
  }
 ],
 "metadata": {
  "kernelspec": {
   "display_name": "Python 3",
   "language": "python",
   "name": "python3"
  },
  "language_info": {
   "codemirror_mode": {
    "name": "ipython",
    "version": 3
   },
   "file_extension": ".py",
   "mimetype": "text/x-python",
   "name": "python",
   "nbconvert_exporter": "python",
   "pygments_lexer": "ipython3",
   "version": "3.9.0"
  }
 },
 "nbformat": 4,
 "nbformat_minor": 4
}
